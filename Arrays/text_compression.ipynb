{
 "cells": [
  {
   "cell_type": "code",
   "execution_count": 15,
   "metadata": {},
   "outputs": [],
   "source": [
    "def compression (string):\n",
    "    \n",
    "    empty_str = \"\"\n",
    "    str_len = len(string)\n",
    "    \n",
    "    if str_len == 0:\n",
    "        return empty_str\n",
    "    \n",
    "    if str_len == 1:\n",
    "        return string + 1\n",
    "    \n",
    "    count = 1\n",
    "    index = 1\n",
    "    \n",
    "    while index < str_len:\n",
    "        \n",
    "        if string[index] == string[index-1]:\n",
    "            count += 1\n",
    "            \n",
    "        else:\n",
    "            empty_str = empty_str + string[index-1] + str(count)\n",
    "            count = 1\n",
    "            \n",
    "            \n",
    "        index += 1\n",
    "        \n",
    "    empty_str = empty_str + string[index-1] + str(count)\n",
    "    \n",
    "    \n",
    "            \n",
    "    return empty_str\n",
    "\n",
    "            \n",
    "    \n",
    "    "
   ]
  },
  {
   "cell_type": "code",
   "execution_count": 17,
   "metadata": {},
   "outputs": [
    {
     "data": {
      "text/plain": [
       "'A5B4C4a3A1'"
      ]
     },
     "execution_count": 17,
     "metadata": {},
     "output_type": "execute_result"
    }
   ],
   "source": [
    "compression('AAAAABBBBCCCCaaaA')"
   ]
  },
  {
   "cell_type": "code",
   "execution_count": null,
   "metadata": {},
   "outputs": [],
   "source": []
  }
 ],
 "metadata": {
  "kernelspec": {
   "display_name": "Python 3",
   "language": "python",
   "name": "python3"
  },
  "language_info": {
   "codemirror_mode": {
    "name": "ipython",
    "version": 3
   },
   "file_extension": ".py",
   "mimetype": "text/x-python",
   "name": "python",
   "nbconvert_exporter": "python",
   "pygments_lexer": "ipython3",
   "version": "3.7.1"
  }
 },
 "nbformat": 4,
 "nbformat_minor": 2
}
