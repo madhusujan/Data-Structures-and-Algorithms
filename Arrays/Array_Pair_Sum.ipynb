{
 "cells": [
  {
   "cell_type": "code",
   "execution_count": 21,
   "metadata": {},
   "outputs": [],
   "source": [
    "#Array Pair Sum  \n",
    "\n",
    "def array_pair_sum(array, add):\n",
    "    \n",
    "    if len(array)<2:\n",
    "        \n",
    "        return \n",
    "    \n",
    "    \n",
    "    check = set ()\n",
    "    array_pair = set()\n",
    "    \n",
    "    \n",
    "    for num in array: \n",
    "        target = add - num\n",
    "        \n",
    "        if target not in check:\n",
    "            check.add(num)\n",
    "            \n",
    "        else: \n",
    "            array_pair.add((min(num, target), max(num, target)))\n",
    "            \n",
    "            \n",
    "    print(array_pair)\n",
    "        "
   ]
  },
  {
   "cell_type": "code",
   "execution_count": 24,
   "metadata": {},
   "outputs": [
    {
     "name": "stdout",
     "output_type": "stream",
     "text": [
      "{(2, 3), (1, 4)}\n"
     ]
    }
   ],
   "source": [
    "array_pair_sum([1,2,3,4,3],5)"
   ]
  },
  {
   "cell_type": "code",
   "execution_count": null,
   "metadata": {},
   "outputs": [],
   "source": []
  }
 ],
 "metadata": {
  "kernelspec": {
   "display_name": "Python 3",
   "language": "python",
   "name": "python3"
  },
  "language_info": {
   "codemirror_mode": {
    "name": "ipython",
    "version": 3
   },
   "file_extension": ".py",
   "mimetype": "text/x-python",
   "name": "python",
   "nbconvert_exporter": "python",
   "pygments_lexer": "ipython3",
   "version": "3.7.1"
  }
 },
 "nbformat": 4,
 "nbformat_minor": 2
}
