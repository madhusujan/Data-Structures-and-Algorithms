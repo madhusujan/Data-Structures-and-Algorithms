{
 "cells": [
  {
   "cell_type": "code",
   "execution_count": 29,
   "metadata": {},
   "outputs": [],
   "source": [
    "def difference (arr1, arr2):\n",
    "    arr1.sort()\n",
    "    arr2.sort()\n",
    "    \n",
    "    count = {}\n",
    "    \n",
    "    for num in arr1:\n",
    "        if num in count:\n",
    "            count[num]+=1\n",
    "        else:\n",
    "            count[num] = 1\n",
    "            \n",
    "    for num in arr2: \n",
    "        if num in count:\n",
    "            count[num] -= 1\n",
    "        else: \n",
    "            count[num] =1 \n",
    "            \n",
    "    for k in count:\n",
    "        if count[k] != 0 :\n",
    "            print(k)\n",
    "            \n",
    "            \n",
    "\n",
    "            \n",
    "    "
   ]
  },
  {
   "cell_type": "code",
   "execution_count": 33,
   "metadata": {},
   "outputs": [
    {
     "name": "stdout",
     "output_type": "stream",
     "text": [
      "1\n"
     ]
    }
   ],
   "source": [
    "arr1 = [1, 4, 5, 7, 9] \n",
    "arr2 = [4, 5, 7, 9] \n",
    "difference (arr1, arr2)"
   ]
  },
  {
   "cell_type": "code",
   "execution_count": null,
   "metadata": {},
   "outputs": [],
   "source": []
  }
 ],
 "metadata": {
  "kernelspec": {
   "display_name": "Python 3",
   "language": "python",
   "name": "python3"
  },
  "language_info": {
   "codemirror_mode": {
    "name": "ipython",
    "version": 3
   },
   "file_extension": ".py",
   "mimetype": "text/x-python",
   "name": "python",
   "nbconvert_exporter": "python",
   "pygments_lexer": "ipython3",
   "version": "3.7.1"
  }
 },
 "nbformat": 4,
 "nbformat_minor": 2
}
