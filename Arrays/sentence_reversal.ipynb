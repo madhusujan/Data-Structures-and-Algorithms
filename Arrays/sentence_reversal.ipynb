{
 "cells": [
  {
   "cell_type": "code",
   "execution_count": 20,
   "metadata": {},
   "outputs": [],
   "source": [
    "def reverse (sentence):\n",
    "    words = sentence.split(' ')\n",
    "    string = []\n",
    "    \n",
    "    for word in words:\n",
    "        string.insert(0, word)\n",
    "        \n",
    "    print(\" \".join(string))"
   ]
  },
  {
   "cell_type": "code",
   "execution_count": 21,
   "metadata": {},
   "outputs": [
    {
     "name": "stdout",
     "output_type": "stream",
     "text": [
      "madhu is name my\n"
     ]
    }
   ],
   "source": [
    "sentence = 'my name is madhu'\n",
    "reverse(sentence)"
   ]
  },
  {
   "cell_type": "code",
   "execution_count": 24,
   "metadata": {},
   "outputs": [
    {
     "name": "stdout",
     "output_type": "stream",
     "text": [
      "Updated List:  [[...], 'a', 'e', 'i', 'u']\n"
     ]
    }
   ],
   "source": [
    "# vowel list\n",
    "vowel = ['a', 'e', 'i', 'u']\n",
    "\n",
    "# inserting element to list at 4th position\n",
    "vowel.insert(0, vowel)\n",
    "\n",
    "print('Updated List: ', vowel)"
   ]
  },
  {
   "cell_type": "code",
   "execution_count": null,
   "metadata": {},
   "outputs": [],
   "source": []
  }
 ],
 "metadata": {
  "kernelspec": {
   "display_name": "Python 3",
   "language": "python",
   "name": "python3"
  },
  "language_info": {
   "codemirror_mode": {
    "name": "ipython",
    "version": 3
   },
   "file_extension": ".py",
   "mimetype": "text/x-python",
   "name": "python",
   "nbconvert_exporter": "python",
   "pygments_lexer": "ipython3",
   "version": "3.7.1"
  }
 },
 "nbformat": 4,
 "nbformat_minor": 2
}
