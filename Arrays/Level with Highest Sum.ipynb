{
 "cells": [
  {
   "cell_type": "code",
   "execution_count": 40,
   "metadata": {},
   "outputs": [],
   "source": [
    "# import math for the use of logarithm function\n",
    "import math\n",
    "def solution(A):\n",
    "    #base case:\n",
    "    if len(A) == 1:\n",
    "        return 1\n",
    "        \n",
    "    # For convinence use of formula add 0 infront of the array \n",
    "    A.insert(0, 0)\n",
    "    \n",
    "    total_levels = math.floor(math.log(len(A)-1,2)) + 1\n",
    "    level_sum = [0]*total_levels\n",
    "\n",
    "    \n",
    "    for i in range(1, len(A)):\n",
    "        level = math.floor(math.log(i, 2))\n",
    "        level_sum[level] = level_sum[level] + A[i] \n",
    "#         print(level_sum[level])\n",
    "    \n",
    "    return(level_sum.index(max(level_sum)) + 1)"
   ]
  },
  {
   "cell_type": "code",
   "execution_count": 41,
   "metadata": {},
   "outputs": [
    {
     "data": {
      "text/plain": [
       "3"
      ]
     },
     "execution_count": 41,
     "metadata": {},
     "output_type": "execute_result"
    }
   ],
   "source": [
    "A = [1,2,3,4,5]\n",
    "solution(A)"
   ]
  },
  {
   "cell_type": "code",
   "execution_count": null,
   "metadata": {},
   "outputs": [],
   "source": []
  }
 ],
 "metadata": {
  "kernelspec": {
   "display_name": "Python 3",
   "language": "python",
   "name": "python3"
  },
  "language_info": {
   "codemirror_mode": {
    "name": "ipython",
    "version": 3
   },
   "file_extension": ".py",
   "mimetype": "text/x-python",
   "name": "python",
   "nbconvert_exporter": "python",
   "pygments_lexer": "ipython3",
   "version": "3.7.1"
  }
 },
 "nbformat": 4,
 "nbformat_minor": 2
}
