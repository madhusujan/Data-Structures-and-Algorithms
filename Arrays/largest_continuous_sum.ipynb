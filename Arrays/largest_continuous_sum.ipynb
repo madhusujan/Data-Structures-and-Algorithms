{
 "cells": [
  {
   "cell_type": "code",
   "execution_count": 31,
   "metadata": {},
   "outputs": [],
   "source": [
    "def array_sum(array):\n",
    "    if len(array) == 0: \n",
    "        return 0\n",
    "    \n",
    "    \n",
    "    maximum_sum = current_sum = array[0] \n",
    "    output = set()\n",
    "    output.add(array[0])\n",
    "    \n",
    "    for num in array[1:]:\n",
    "        \n",
    "        current_sum = max(current_sum+num, num)\n",
    "        \n",
    "        \n",
    "        maximum_sum = max(current_sum, maximum_sum)\n",
    "        output.add(num)\n",
    "        \n",
    "    print(maximum_sum)\n",
    "    print(output)\n",
    "        "
   ]
  },
  {
   "cell_type": "code",
   "execution_count": 32,
   "metadata": {},
   "outputs": [
    {
     "name": "stdout",
     "output_type": "stream",
     "text": [
      "29\n",
      "{1, 2, 3, 4, 10, -10, -1}\n"
     ]
    }
   ],
   "source": [
    "array_sum([1,2,-1,3,4,10,10,-10,-1])"
   ]
  },
  {
   "cell_type": "code",
   "execution_count": null,
   "metadata": {},
   "outputs": [],
   "source": []
  }
 ],
 "metadata": {
  "kernelspec": {
   "display_name": "Python 3",
   "language": "python",
   "name": "python3"
  },
  "language_info": {
   "codemirror_mode": {
    "name": "ipython",
    "version": 3
   },
   "file_extension": ".py",
   "mimetype": "text/x-python",
   "name": "python",
   "nbconvert_exporter": "python",
   "pygments_lexer": "ipython3",
   "version": "3.7.1"
  }
 },
 "nbformat": 4,
 "nbformat_minor": 2
}
