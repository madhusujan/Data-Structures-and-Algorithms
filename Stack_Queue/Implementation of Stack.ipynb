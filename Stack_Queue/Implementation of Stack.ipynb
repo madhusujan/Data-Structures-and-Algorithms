{
 "cells": [
  {
   "cell_type": "code",
   "execution_count": 14,
   "metadata": {},
   "outputs": [],
   "source": [
    "class Stack:\n",
    "    def __init__(self):\n",
    "         self.container = []  # You don't want to assign [] to self - when you do that, \n",
    "                            # you're just assigning to a new local variable called `self`.  \n",
    "                            # You want your stack to *have* a list, not *be* a list.\n",
    "\n",
    "    def isEmpty(self):\n",
    "         return self.size() == 0   # While there's nothing wrong with self.container == [], there is a builtin function for that purpose, \n",
    "                                    #  so we may as well use it.  And while we're at it, it's often nice to use your own internal functions, \n",
    "                                    #  so behavior is more consistent.\n",
    "\n",
    "    def push(self, item):\n",
    "         self.container.append(item)  # appending to the *container*, not the instance itself.\n",
    "\n",
    "    def pop(self):\n",
    "         return self.container.pop()  # pop from the container, this was fixed from the old version which was wrong\n",
    "\n",
    "    def peek(self):\n",
    "        if self.isEmpty():\n",
    "            raise Exception(\"Stack empty!\")\n",
    "        return self.container[-1]  # View element at top of the stack\n",
    "\n",
    "    def size(self):\n",
    "        return len(self.container)  # length of the container\n",
    "\n",
    "    def show(self):\n",
    "         return self.container  # display the entire stack as list"
   ]
  },
  {
   "cell_type": "code",
   "execution_count": 15,
   "metadata": {},
   "outputs": [],
   "source": [
    "s = stack()"
   ]
  },
  {
   "cell_type": "code",
   "execution_count": 22,
   "metadata": {},
   "outputs": [
    {
     "data": {
      "text/plain": [
       "True"
      ]
     },
     "execution_count": 22,
     "metadata": {},
     "output_type": "execute_result"
    }
   ],
   "source": [
    "s.isEmpty()"
   ]
  },
  {
   "cell_type": "code",
   "execution_count": 24,
   "metadata": {},
   "outputs": [],
   "source": [
    "class Stack:\n",
    "    def __init__(self):\n",
    "         self.items = []  # You don't want to assign [] to self - when you do that, \n",
    "                            # you're just assigning to a new local variable called `self`.  \n",
    "                            # You want your stack to *have* a list, not *be* a list.\n",
    "\n",
    "    def isEmpty(self):\n",
    "         return self.size() == 0   # While there's nothing wrong with self.container == [], there is a builtin function for that purpose, \n",
    "                                    #  so we may as well use it.  And while we're at it, it's often nice to use your own internal functions, \n",
    "                                    #  so behavior is more consistent.\n",
    "\n",
    "    def push(self, item):\n",
    "         self.items.append(item)  # appending to the *container*, not the instance itself.\n",
    "\n",
    "    def pop(self):\n",
    "         return self.items.pop()  # pop from the container, this was fixed from the old version which was wrong\n",
    "\n",
    "    def peek(self):\n",
    "        if self.isEmpty():\n",
    "            raise Exception(\"Stack empty!\")\n",
    "        return self.items[-1]  # View element at top of the stack\n",
    "\n",
    "    def size(self):\n",
    "        return len(self.items)  # length of the container\n",
    "\n",
    "    def show(self):\n",
    "         return self.items # display the entire stack as list"
   ]
  },
  {
   "cell_type": "code",
   "execution_count": 25,
   "metadata": {},
   "outputs": [
    {
     "data": {
      "text/plain": [
       "True"
      ]
     },
     "execution_count": 25,
     "metadata": {},
     "output_type": "execute_result"
    }
   ],
   "source": [
    "z = Stack()\n",
    "z.isEmpty()"
   ]
  },
  {
   "cell_type": "code",
   "execution_count": 27,
   "metadata": {},
   "outputs": [],
   "source": [
    "class Stacka:\n",
    "    \n",
    "    \n",
    "    def __init__(self):\n",
    "        self.items = []\n",
    "\n",
    "    def isEmpty(self):\n",
    "        return self.items == []\n",
    "\n",
    "    def push(self, item):\n",
    "        self.items.append(item)\n",
    "\n",
    "    def pop(self):\n",
    "        return self.items.pop()\n",
    "\n",
    "    def peek(self):\n",
    "        return self.items[len(self.items)-1]\n",
    "\n",
    "    def size(self):\n",
    "        return len(self.items)"
   ]
  },
  {
   "cell_type": "code",
   "execution_count": 28,
   "metadata": {},
   "outputs": [
    {
     "data": {
      "text/plain": [
       "True"
      ]
     },
     "execution_count": 28,
     "metadata": {},
     "output_type": "execute_result"
    }
   ],
   "source": [
    "y = Stacka()\n",
    "y.isEmpty()"
   ]
  },
  {
   "cell_type": "code",
   "execution_count": null,
   "metadata": {},
   "outputs": [],
   "source": []
  }
 ],
 "metadata": {
  "kernelspec": {
   "display_name": "Python 3",
   "language": "python",
   "name": "python3"
  },
  "language_info": {
   "codemirror_mode": {
    "name": "ipython",
    "version": 3
   },
   "file_extension": ".py",
   "mimetype": "text/x-python",
   "name": "python",
   "nbconvert_exporter": "python",
   "pygments_lexer": "ipython3",
   "version": "3.7.1"
  }
 },
 "nbformat": 4,
 "nbformat_minor": 2
}
